{
 "cells": [
  {
   "cell_type": "markdown",
   "metadata": {},
   "source": [
    "# Lab 4:\n",
    "\n",
    "**This lab must be completed individually.**\n",
    "\n",
    "Where provided, try your best to match the **Sample Output** as best as you can.\n"
   ]
  },
  {
   "cell_type": "markdown",
   "metadata": {},
   "source": [
    "## 1. Advanced git"
   ]
  },
  {
   "cell_type": "markdown",
   "metadata": {},
   "source": [
    "Here's a [**PERFECT** tutorial](http://learngitbranching.js.org) to help you get more familiar with git commands, particularly branching, and merging - things you will start encountering when you start collaboratively working on the projects.\n",
    "\n",
    "Rather than make this a milestone task though, I will be including it as part of Lab 4.\n",
    "You are responsible for completing the following modules (at minimum):\n",
    "\n",
    "- \"Main: Introduction Sequence\" <- This should mostly be review.\n",
    "  - Exercise 1\n",
    "  - Exercise 2\n",
    "  - Exercise 3\n",
    "  - Exercise 4\n",
    "  \n",
    "\n",
    "- \"Remote: Push & Pull -- Git Remotes\" <- This is new stuff and you should spend time working through the tutorial.\n",
    "  - Exercise 1\n",
    "  - Exercise 2\n",
    "  - Exercise 3\n",
    "  - Exercise 4\n",
    "  - Exercise 5\n",
    "  - Exercise 6\n",
    "  - Exercise 7\n",
    "  - Exercise 8"
   ]
  },
  {
   "cell_type": "markdown",
   "metadata": {},
   "source": [
    "Please include screenshots for your Git Tutorial here:\n",
    "\n",
    "<img src=\"images/\" width=\"400px\">\n",
    "\n",
    "<img src=\"images/\" width=\"400px\">"
   ]
  },
  {
   "cell_type": "markdown",
   "metadata": {},
   "source": [
    "## 2: Functions with Python\n",
    "In this part you work on applying your new Python skills to prepare working with data. In particular, you need to be able to organize your work, so knowing how to make your own functions is important. Next week, you will be full on working with data - finally!"
   ]
  },
  {
   "cell_type": "markdown",
   "metadata": {},
   "source": [
    "## Objectives\n",
    "\n",
    "1. Practice Python functions\n",
    "2. Practice Python mathematical operations\n",
    "3. Practice importing and using the Pandas module"
   ]
  },
  {
   "cell_type": "code",
   "execution_count": null,
   "metadata": {},
   "outputs": [],
   "source": [
    "# Usually all the import statements are at the top of the file\n",
    "\n",
    "import pandas as pd\n",
    "import seaborn as sns\n",
    "import numpy as np\n",
    "import os"
   ]
  },
  {
   "cell_type": "markdown",
   "metadata": {},
   "source": [
    "## A: Creating Functions (3 marks)\n",
    "\n",
    "In your projects, you may need to create your own functions to do some complex calculations (beyond mean, median etc...). In this question you will write a function to calculate time and range of flight for a projectile motion.\n",
    "\n",
    "To refresh your memory from physics, a projectile motion looks like this:\n",
    "\n",
    "<img src=\"images/quadratic.png\" width=\"500px\">\n",
    "\n",
    "Given the standard form of a projectile motion without any air residence, time of the flight $T$, height of the flight $H$ and flight range $R$ can be calulated using following equations:<br>\n",
    "$$T=\\frac{2V_{0}sin\\theta}{g}$$\n",
    "$$R=\\frac{V_{0}^{2} sin 2\\theta}{g}$$\n",
    "$$H=\\frac{V_{0}^{2} sin^{2}\\theta}{2g}$$\n",
    "\n",
    "where $V_{0}$, $\\theta$, $g$, $T$, $R$, $H$ are launch velocity, launch angle, acceleration of gravity ($g=9.8m/s^{2}$), time of flight, range of flight, and hight of flight, respectively.\n",
    "\n",
    "Write a python function that calculates and prints $T$, $R$, $H$ given $V_{0}$, $degree (\\theta)$. \n",
    "\n",
    "Check your function by running it on some test data points:\n",
    "\n",
    "- `solution(10,5)`,\n",
    "- `solution(0,45)`,\n",
    "- `solution(10,90)`,\n",
    "- `solution(10,45)`.\n",
    "\n",
    "#### Sample Output\n",
    ">Launch speed = 10m, launch angel = 5 degree<br>\n",
    ">Time of flight is 0.178s<br>\n",
    ">Range of flight is 1.772m<br>\n",
    ">Hight of flight is 0.154m<br>\n",
    ">Launch speed = 0m, launch angel = 45 degree<br>\n",
    ">Time of flight is 0.000s<br>\n",
    ">Range of flight is 0.000m<br>\n",
    ">Hight of flight is 0.000m<br>\n",
    ">Launch speed = 10m, launch angel = 90 degree<br>\n",
    ">Time of flight is 2.041s<br>\n",
    ">Range of flight is 0.000m<br>\n",
    ">Hight of flight is 0.000m<br>\n",
    ">Launch speed = 10m, launch angel = 45 degree<br>\n",
    ">Time of flight is 1.443s<br>\n",
    ">Range of flight is 10.204m<br>\n",
    ">Hight of flight is 5.102m"
   ]
  },
  {
   "cell_type": "code",
   "execution_count": 195,
   "metadata": {},
   "outputs": [],
   "source": [
    "import math\n",
    "def solution(V, theta):\n",
    "    pass\n",
    "    # Your Solution here\n",
    "    "
   ]
  },
  {
   "cell_type": "code",
   "execution_count": 194,
   "metadata": {},
   "outputs": [],
   "source": [
    "# test\n",
    "solution(10,5)\n",
    "solution(0,45)\n",
    "solution(10,90)\n",
    "solution(10,45)"
   ]
  },
  {
   "cell_type": "markdown",
   "metadata": {},
   "source": [
    "## B: Functions (Total: 6 marks)\n",
    "\n",
    "<!--Remember in lab 2, you used *tree* to show a map of all directories and files within a directory. \n",
    "In this section, we want to make a similar program, but using python instead. \n",
    "-->"
   ]
  },
  {
   "cell_type": "markdown",
   "metadata": {},
   "source": [
    "### B1. `ListFiles()` (2 marks): \n",
    "\n",
    "**Task: Your task is to create a python function called `ListFiles()` that takes in a directory path and then finds and print all the files (not directories) in a given directory (relative to `./`).**\n",
    "\n",
    "We suggest you use the [`listdir()` function](https://docs.python.org/3/library/os.html#os.listdir) and `isfile()` functions from the `os` module.\n",
    "\n",
    "In your GitHub repository, there is a folder called `directory_list` which contains some sample files. \n",
    "\n",
    "*Hint 1: don't forget to first `import os` to use `os.listdir()` and `os.path.isfile()`.*\n",
    "\n",
    "*Hint 2: You can see the following tutorials if you need some extra help or some worked examples: [link1](https://www.tutorialspoint.com/python/os_listdir.htm) and [link2](https://www.geeksforgeeks.org/python-os-path-isfile-method/)*.\n",
    "\n",
    "#### Sample Output\n",
    ">directory/file1.txt<br>\n",
    ">directory/file2.txt<br>\n",
    ">directory/file3.txt<br>\n",
    ">directory/file4.txt<br>"
   ]
  },
  {
   "cell_type": "code",
   "execution_count": 177,
   "metadata": {},
   "outputs": [],
   "source": [
    "import os"
   ]
  },
  {
   "cell_type": "code",
   "execution_count": 178,
   "metadata": {},
   "outputs": [],
   "source": [
    "def ListFiles(address):\n",
    "    pass\n",
    "    # Your Solution here\n",
    "     "
   ]
  },
  {
   "cell_type": "code",
   "execution_count": 179,
   "metadata": {},
   "outputs": [],
   "source": [
    "# test\n",
    "# ListFiles(\"directory_list\")"
   ]
  },
  {
   "cell_type": "markdown",
   "metadata": {},
   "source": [
    "### B2. `ListDirectories()` (2 marks): \n",
    "\n",
    "**Task: Use the `os.listdir()` and `os.path.isdir()` function to find and print all the directories (not files) in a given folder.\n",
    "Create a python function `ListDirectories(path)` that prints all the directories in that folder (and subfolders).***\n",
    "\n",
    "#### Sample Output (order does not matter)\n",
    "> directory_list/dir2/ <br>\n",
    "> directory_list/dir3/ <br>\n",
    "> directory_list/dir1/ <br>"
   ]
  },
  {
   "cell_type": "code",
   "execution_count": 172,
   "metadata": {},
   "outputs": [],
   "source": [
    "def ListDirectories(address):\n",
    "    pass\n",
    "    # Your Solution here"
   ]
  },
  {
   "cell_type": "code",
   "execution_count": 167,
   "metadata": {},
   "outputs": [],
   "source": [
    "# test\n",
    "# ListDirectories(\"directory_list\")"
   ]
  },
  {
   "cell_type": "markdown",
   "metadata": {},
   "source": [
    "### B3. `tree()` (2 marks): \n",
    "\n",
    "**Task: Write a function `tree(path)` that prints a map of all directories AND files within a directory.**\n",
    "\n",
    "*Hint: you can use the functions you created above, or you may use the [`os.walk()`](https://www.tutorialspoint.com/python/os_walk.htm) function to complete this task (there are many ways to do it). Another option is to use [glob](https://www.geeksforgeeks.org/how-to-use-glob-function-to-find-files-recursively-in-python/).* You can explore multiple solutions if you like.\n",
    "\n",
    "#### Sample Output\n",
    "<img src=\"images/dir.JPG\" width=\"300px\">"
   ]
  },
  {
   "cell_type": "code",
   "execution_count": 181,
   "metadata": {},
   "outputs": [],
   "source": [
    "def tree(path):\n",
    "    pass\n",
    "    # Your Solution here"
   ]
  },
  {
   "cell_type": "code",
   "execution_count": 180,
   "metadata": {
    "scrolled": true
   },
   "outputs": [],
   "source": [
    "# Test your function\n",
    "tree(\"directory_list\")"
   ]
  },
  {
   "cell_type": "markdown",
   "metadata": {},
   "source": [
    "## C: `numpy` (Total: 8 marks)\n",
    "\n",
    "In this section, we will practice using the `numpy` library.\n",
    "First, import the `numpy` library\n",
    "\n",
    "```\n",
    "import numpy as np\n",
    "```"
   ]
  },
  {
   "cell_type": "markdown",
   "metadata": {},
   "source": [
    "### C1. Create a vector (3 marks)\n",
    "\n",
    "**Task: Create an empty vector of size 10 filled with NaN.**\n",
    "\n",
    "*Hint: you need to use [`zeros()` method](https://numpy.org/doc/stable/reference/generated/numpy.zeros.html) or the [`empty()` method](https://numpy.org/doc/stable/reference/generated/numpy.empty.html?highlight=empty#numpy.empty)*"
   ]
  },
  {
   "cell_type": "code",
   "execution_count": 182,
   "metadata": {},
   "outputs": [],
   "source": [
    "# Your Solution here"
   ]
  },
  {
   "cell_type": "markdown",
   "metadata": {},
   "source": [
    "### C2. Working with Vectors (2 marks)\n",
    "\n",
    "**Task: Create a random vector of size 10 and then find its mean, max, min, and sum value.**\n",
    "\n",
    "*Hint: for random vector you need to use `np.random.random()` and for the mean, max, min, sum you need to use build-in numpy methods `mean()`,`max()`,`min()`,`sum()`*.\n",
    "\n",
    "#### Sample output (Your numbers will be different)\n",
    "\n",
    ">[0.66698639 0.32937943 0.12074085 0.21788496 0.75628444 0.56461791\n",
    " 0.38162184 0.60966053 0.00491222 0.80007239]<br/>\n",
    ">The max is: 0.800<br/>\n",
    ">The min is: 0.005<br/>\n",
    ">The sum is: 4.452<br/>\n",
    ">The mean is: 0.445<br/>"
   ]
  },
  {
   "cell_type": "code",
   "execution_count": 183,
   "metadata": {},
   "outputs": [],
   "source": [
    "# Your Solution here\n"
   ]
  },
  {
   "cell_type": "markdown",
   "metadata": {},
   "source": [
    "### C4. More vectors (3 marks)\n",
    "\n",
    "**Task: Using `numpy` Create a vector of size 15 which contains random values ranging from 10 to 90 and replace the minimum value with 100 and maximum value with 0. Print the mean, befor and after.**\n",
    "\n",
    "*Hint: you may need to use `argmax()` and `argmin()`. \n",
    "Documentation for that can be found [here](https://numpy.org/doc/stable/reference/generated/numpy.argmax.html).*\n",
    "\n",
    "\n",
    "##### Sample output\n",
    ">before: [44 45 45 61 58 25 58 37 52 77 72 32 63 11 23]<br>\n",
    ">mean: 46.86666666666667<br>\n",
    ">after: [ 44  45  45  61  58  25  58  37  52   0  72  32  63 100  23]<br>\n",
    ">mean: 47.666666666666664<br>"
   ]
  },
  {
   "cell_type": "code",
   "execution_count": 184,
   "metadata": {},
   "outputs": [],
   "source": [
    "# Your Solution here"
   ]
  }
 ],
 "metadata": {
  "kernelspec": {
   "display_name": "Python 3",
   "language": "python",
   "name": "python3"
  },
  "language_info": {
   "codemirror_mode": {
    "name": "ipython",
    "version": 3
   },
   "file_extension": ".py",
   "mimetype": "text/x-python",
   "name": "python",
   "nbconvert_exporter": "python",
   "pygments_lexer": "ipython3",
   "version": "3.8.5"
  }
 },
 "nbformat": 4,
 "nbformat_minor": 4
}
