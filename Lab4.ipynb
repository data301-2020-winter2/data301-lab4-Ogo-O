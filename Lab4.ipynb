{
 "cells": [
  {
   "cell_type": "code",
   "execution_count": 29,
   "id": "invisible-former",
   "metadata": {},
   "outputs": [
    {
     "name": "stdout",
     "output_type": "stream",
     "text": [
      "Launch spped = 10m, launch angle = 5 degrees\n",
      "Time of flight is 0.178s\n",
      "Range of flight is 1.772m\n",
      "Hight of flight is 0.039m\n",
      "Launch spped = 0m, launch angle = 45 degrees\n",
      "Time of flight is 0.000s\n",
      "Range of flight is 0.000m\n",
      "Hight of flight is 0.000m\n",
      "Launch spped = 10m, launch angle = 90 degrees\n",
      "Time of flight is 2.041s\n",
      "Range of flight is 0.000m\n",
      "Hight of flight is 5.102m\n",
      "Launch spped = 10m, launch angle = 45 degrees\n",
      "Time of flight is 1.443s\n",
      "Range of flight is 10.204m\n",
      "Hight of flight is 2.551m\n"
     ]
    }
   ],
   "source": [
    "#A\n",
    "import math\n",
    "def solution(V, theta):\n",
    "    pass\n",
    "    degree = math.radians(theta)\n",
    "    T = (2 * V * math.sin(degree))/9.8\n",
    "    T = \"{:.3f}\".format(T)\n",
    "    R = (math.pow(V,2)*math.sin(2*degree))/9.8\n",
    "    R = \"{:.3f}\".format(R)\n",
    "    H = (math.pow(V,2)*math.pow(math.sin(degree),2))/(2*9.8)\n",
    "    H = \"{:.3f}\".format(H)\n",
    "    print(\"Launch spped = \" + str(V) + \"m, launch angle = \" + str(theta) + \" degrees\")\n",
    "    print(\"Time of flight is \" + T + \"s\")\n",
    "    print(\"Range of flight is \" + R + \"m\")\n",
    "    print(\"Hight of flight is \" + H + \"m\")\n",
    "    \n",
    "solution(10,5)\n",
    "solution(0,45)\n",
    "solution(10,90)\n",
    "solution(10,45)"
   ]
  },
  {
   "cell_type": "code",
   "execution_count": 65,
   "id": "greatest-atlanta",
   "metadata": {},
   "outputs": [
    {
     "name": "stdout",
     "output_type": "stream",
     "text": [
      "['directory_list/file2.txt', 'directory_list/file3.txt', 'directory_list/file1.txt', 'directory_list/file4.txt']\n"
     ]
    }
   ],
   "source": [
    "#B1\n",
    "import os\n",
    "def ListFiles(address):\n",
    "    pass\n",
    "    dirname = address\n",
    "    dirfiles = os.listdir(dirname)\n",
    "    fullpaths = map(lambda name: os.path.join(dirname, name), dirfiles)\n",
    "    dirs = []\n",
    "    files = []\n",
    "    for file in fullpaths:\n",
    "        if os.path.isfile(file): files.append(file)\n",
    "    print(list(files))\n",
    "ListFiles(\"directory_list\")"
   ]
  },
  {
   "cell_type": "code",
   "execution_count": 67,
   "id": "varied-chess",
   "metadata": {},
   "outputs": [
    {
     "name": "stdout",
     "output_type": "stream",
     "text": [
      "['directory_list/dir2', 'directory_list/dir3', 'directory_list/dir1']\n"
     ]
    }
   ],
   "source": [
    "#B2\n",
    "import os\n",
    "def ListFiles(address):\n",
    "    pass\n",
    "    dirname = address\n",
    "    dirfiles = os.listdir(dirname)\n",
    "    fullpaths = map(lambda name: os.path.join(dirname, name), dirfiles)\n",
    "    dire = []\n",
    "    files = []\n",
    "    for file in fullpaths:\n",
    "            if os.path.isdir(file): dire.append(file)\n",
    "    print(list(dire))\n",
    "ListFiles(\"directory_list\")\n"
   ]
  },
  {
   "cell_type": "code",
   "execution_count": 64,
   "id": "cleared-samba",
   "metadata": {},
   "outputs": [
    {
     "name": "stdout",
     "output_type": "stream",
     "text": [
      "['directory_list/file2.txt', 'directory_list/file3.txt', 'directory_list/file1.txt', 'directory_list/file4.txt', 'directory_list/dir2', 'directory_list/dir3', 'directory_list/dir1']\n"
     ]
    }
   ],
   "source": [
    "#B3\n",
    "def tree(path):\n",
    "    pass\n",
    "    dirname = path\n",
    "    x = path\n",
    "    files = os.listdir(dirname)\n",
    "    \n",
    "    temp = map(lambda name: os.path.join(dirname, name), files)\n",
    "    print(list(temp))\n",
    "tree(\"directory_list\")"
   ]
  },
  {
   "cell_type": "code",
   "execution_count": 172,
   "id": "italic-worry",
   "metadata": {},
   "outputs": [
    {
     "name": "stdout",
     "output_type": "stream",
     "text": [
      "[nan nan nan nan nan nan nan nan nan nan]\n"
     ]
    }
   ],
   "source": [
    "#C1\n",
    "import numpy as np\n",
    "x = np.zeros(10)\n",
    "x[:] = np.nan\n",
    "print(x)\n"
   ]
  },
  {
   "cell_type": "code",
   "execution_count": 94,
   "id": "dietary-nursery",
   "metadata": {},
   "outputs": [
    {
     "name": "stdout",
     "output_type": "stream",
     "text": [
      "[0.22172377 0.12098565 0.30007703 0.68946984 0.82261646 0.86963537\n",
      " 0.0105382  0.32734111 0.24488017 0.77779543]\n",
      "The max is: 0.870\n",
      "The min is: 0.011\n",
      "The sum is: 4.385\n",
      "The mean is: 0.439\n"
     ]
    }
   ],
   "source": [
    "#C2\n",
    "import numpy as np\n",
    "y = np.random.random(10)\n",
    "mean = sum(y)/10\n",
    "print(y)\n",
    "print(\"The max is: {:.3f}\".format(max(y)))\n",
    "print(\"The min is: {:.3f}\".format(min(y)))\n",
    "print(\"The sum is: {:.3f}\".format(sum(y)))\n",
    "print(\"The mean is: {:.3f}\".format(mean))"
   ]
  },
  {
   "cell_type": "code",
   "execution_count": 169,
   "id": "sacred-stock",
   "metadata": {},
   "outputs": [
    {
     "name": "stdout",
     "output_type": "stream",
     "text": [
      "Before: [14 60 82 34 15 16 72 41 36 51 54 24 46 63 57]\n",
      "The mean is: 44.333333333333336\n",
      "After: [100  60   0  34  15  16  72  41  36  51  54  24  46  63  57]\n"
     ]
    },
    {
     "name": "stderr",
     "output_type": "stream",
     "text": [
      "<ipython-input-169-ddb9b0d9ef7d>:2: DeprecationWarning: This function is deprecated. Please call randint(10, 90 + 1) instead\n",
      "  y = np.random.random_integers(10,90,size=(15,))\n"
     ]
    }
   ],
   "source": [
    "#C4\n",
    "import numpy as np\n",
    "y = np.random.random_integers(10,90,size=(15,))\n",
    "print(\"Before: \" + str(y))\n",
    "mean = sum(y)/15\n",
    "print(\"The mean is: {:}\".format(mean))\n",
    "a = np.argmax(y)\n",
    "b = np.argmin(y)\n",
    "y[a] = 0\n",
    "y[b] = 100\n",
    "print(\"After: \" + str(y))\n"
   ]
  },
  {
   "cell_type": "raw",
   "id": "contemporary-monday",
   "metadata": {},
   "source": []
  },
  {
   "cell_type": "code",
   "execution_count": null,
   "id": "dressed-romania",
   "metadata": {},
   "outputs": [],
   "source": []
  },
  {
   "cell_type": "code",
   "execution_count": null,
   "id": "respiratory-royal",
   "metadata": {},
   "outputs": [],
   "source": []
  },
  {
   "cell_type": "code",
   "execution_count": null,
   "id": "charged-fitting",
   "metadata": {},
   "outputs": [],
   "source": []
  }
 ],
 "metadata": {
  "kernelspec": {
   "display_name": "Python 3",
   "language": "python",
   "name": "python3"
  },
  "language_info": {
   "codemirror_mode": {
    "name": "ipython",
    "version": 3
   },
   "file_extension": ".py",
   "mimetype": "text/x-python",
   "name": "python",
   "nbconvert_exporter": "python",
   "pygments_lexer": "ipython3",
   "version": "3.8.5"
  }
 },
 "nbformat": 4,
 "nbformat_minor": 5
}
